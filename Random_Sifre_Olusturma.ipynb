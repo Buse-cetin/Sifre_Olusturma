{
  "nbformat": 4,
  "nbformat_minor": 0,
  "metadata": {
    "colab": {
      "provenance": [],
      "authorship_tag": "ABX9TyOCoGtAzBrq5maN+g2Irig2",
      "include_colab_link": true
    },
    "kernelspec": {
      "name": "python3",
      "display_name": "Python 3"
    },
    "language_info": {
      "name": "python"
    }
  },
  "cells": [
    {
      "cell_type": "markdown",
      "metadata": {
        "id": "view-in-github",
        "colab_type": "text"
      },
      "source": [
        "<a href=\"https://colab.research.google.com/github/Buse-cetin/Sifre_Olusturma/blob/main/Random_Sifre_Olusturma.ipynb\" target=\"_parent\"><img src=\"https://colab.research.google.com/assets/colab-badge.svg\" alt=\"Open In Colab\"/></a>"
      ]
    },
    {
      "cell_type": "code",
      "execution_count": 2,
      "metadata": {
        "colab": {
          "base_uri": "https://localhost:8080/"
        },
        "id": "ERkFG0EhYVzL",
        "outputId": "acc1f3c0-935f-40e3-dd28-5850f0fbb8d2"
      },
      "outputs": [
        {
          "output_type": "stream",
          "name": "stdout",
          "text": [
            "üN2üpÖÖigÇ\n"
          ]
        }
      ],
      "source": [
        "import random\n",
        "lower = \"qwertyuıopğüasdfghjklşizxcvbnmöç\"\n",
        "upper = lower.upper()\n",
        "number = \"0123456789\"\n",
        "mark= \"!^+%&/()=*-\"\n",
        "\n",
        "total = lower + upper + number + mark\n",
        "#print(total)\n",
        "\n",
        "password = random.choices(total, k=10)\n",
        "#print(password)\n",
        "\n",
        "password = \"\".join(password)\n",
        "print(password)\n"
      ]
    }
  ]
}